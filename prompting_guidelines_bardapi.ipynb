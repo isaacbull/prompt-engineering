{
  "nbformat": 4,
  "nbformat_minor": 0,
  "metadata": {
    "colab": {
      "provenance": [],
      "authorship_tag": "ABX9TyN/tX65fOcqBMknUDCbor9z",
      "include_colab_link": true
    },
    "kernelspec": {
      "name": "python3",
      "display_name": "Python 3"
    },
    "language_info": {
      "name": "python"
    }
  },
  "cells": [
    {
      "cell_type": "markdown",
      "metadata": {
        "id": "view-in-github",
        "colab_type": "text"
      },
      "source": [
        "<a href=\"https://colab.research.google.com/github/isaacbull/prompt-engineering/blob/main/prompting_guidelines_bardapi.ipynb\" target=\"_parent\"><img src=\"https://colab.research.google.com/assets/colab-badge.svg\" alt=\"Open In Colab\"/></a>"
      ]
    },
    {
      "cell_type": "code",
      "source": [
        "pip install bardapi"
      ],
      "metadata": {
        "colab": {
          "base_uri": "https://localhost:8080/"
        },
        "id": "LudgjDetUvXl",
        "outputId": "4a2a92ca-bec2-48ac-8006-eb149796d82b"
      },
      "execution_count": 12,
      "outputs": [
        {
          "output_type": "stream",
          "name": "stdout",
          "text": [
            "Looking in indexes: https://pypi.org/simple, https://us-python.pkg.dev/colab-wheels/public/simple/\n",
            "Requirement already satisfied: bardapi in /usr/local/lib/python3.10/dist-packages (0.1.8)\n",
            "Requirement already satisfied: requests in /usr/local/lib/python3.10/dist-packages (from bardapi) (2.27.1)\n",
            "Requirement already satisfied: urllib3<1.27,>=1.21.1 in /usr/local/lib/python3.10/dist-packages (from requests->bardapi) (1.26.15)\n",
            "Requirement already satisfied: certifi>=2017.4.17 in /usr/local/lib/python3.10/dist-packages (from requests->bardapi) (2022.12.7)\n",
            "Requirement already satisfied: charset-normalizer~=2.0.0 in /usr/local/lib/python3.10/dist-packages (from requests->bardapi) (2.0.12)\n",
            "Requirement already satisfied: idna<4,>=2.5 in /usr/local/lib/python3.10/dist-packages (from requests->bardapi) (3.4)\n"
          ]
        }
      ]
    },
    {
      "cell_type": "code",
      "source": [
        "!python -m pip install python-dotenv\n"
      ],
      "metadata": {
        "colab": {
          "base_uri": "https://localhost:8080/"
        },
        "id": "JhHHKI4wVb_K",
        "outputId": "93a0e8d5-5c63-4eb9-cbbd-395e9354f632"
      },
      "execution_count": 8,
      "outputs": [
        {
          "output_type": "stream",
          "name": "stdout",
          "text": [
            "Looking in indexes: https://pypi.org/simple, https://us-python.pkg.dev/colab-wheels/public/simple/\n",
            "Collecting python-dotenv\n",
            "  Downloading python_dotenv-1.0.0-py3-none-any.whl (19 kB)\n",
            "Installing collected packages: python-dotenv\n",
            "Successfully installed python-dotenv-1.0.0\n"
          ]
        }
      ]
    },
    {
      "cell_type": "code",
      "execution_count": 34,
      "metadata": {
        "colab": {
          "base_uri": "https://localhost:8080/"
        },
        "id": "fCz_q6DYUqGO",
        "outputId": "f0e17b15-9735-4d55-af81-27b809915a1b"
      },
      "outputs": [
        {
          "output_type": "stream",
          "name": "stdout",
          "text": [
            "Help on package bardapi:\n",
            "\n",
            "NAME\n",
            "    bardapi\n",
            "\n",
            "PACKAGE CONTENTS\n",
            "    core\n",
            "\n",
            "CLASSES\n",
            "    builtins.object\n",
            "        bardapi.core.Bard\n",
            "    \n",
            "    class Bard(builtins.object)\n",
            "     |  Bard(token=None, timeout=20, proxies=None, session=None)\n",
            "     |  \n",
            "     |  Methods defined here:\n",
            "     |  \n",
            "     |  __init__(self, token=None, timeout=20, proxies=None, session=None)\n",
            "     |      Initialize Bard\n",
            "     |      \n",
            "     |      :param token: (`str`, *optional*)\n",
            "     |          __Secure-1PSID value. default to os.getenv(\"_BARD_API_KEY\")\n",
            "     |      :param timeout: (`int`, *optional*)\n",
            "     |          Timeout in seconds when connecting bard server. The timeout is used on each request.\n",
            "     |      :param proxies: (`Dict[str, str]`, *optional*)\n",
            "     |          A dictionary of proxy servers to use by protocol or endpoint, e.g., `{'http': 'foo.bar:3128',\n",
            "     |          'http://hostname': 'foo.bar:4012'}`. The proxies are used on each requpest.\n",
            "     |      :param session: (`requests.Session`, *optional*)\n",
            "     |          An existing requests.Session object to be used for making HTTP requests.\n",
            "     |  \n",
            "     |  get_answer(self, input_text: str) -> dict\n",
            "     |  \n",
            "     |  ----------------------------------------------------------------------\n",
            "     |  Data descriptors defined here:\n",
            "     |  \n",
            "     |  __dict__\n",
            "     |      dictionary for instance variables (if defined)\n",
            "     |  \n",
            "     |  __weakref__\n",
            "     |      list of weak references to the object (if defined)\n",
            "     |  \n",
            "     |  ----------------------------------------------------------------------\n",
            "     |  Data and other attributes defined here:\n",
            "     |  \n",
            "     |  HEADERS = {'Content-Type': 'application/x-www-form-urlencoded;charset=...\n",
            "\n",
            "DATA\n",
            "    __all__ = ['Bard', 'bard_api_key']\n",
            "    bard_api_key = None\n",
            "\n",
            "VERSION\n",
            "    0.1.8\n",
            "\n",
            "AUTHOR\n",
            "    daniel park <parkminwoo1991@gmail.com>\n",
            "\n",
            "FILE\n",
            "    /usr/local/lib/python3.10/dist-packages/bardapi/__init__.py\n",
            "\n",
            "\n"
          ]
        }
      ],
      "source": [
        "help(bard)"
      ]
    },
    {
      "cell_type": "code",
      "source": [
        "import bardapi as bard\n",
        "\n",
        "import bardapi\n",
        "import os\n",
        "\n",
        "# set your __Secure-1PSID value to key\n",
        "os.environ['_BARD_API_KEY']=\"_BARD_API_KEY\"\n",
        "\n"
      ],
      "metadata": {
        "id": "MzcVi3yyU1s4"
      },
      "execution_count": 50,
      "outputs": []
    },
    {
      "cell_type": "code",
      "source": [
        "\n",
        "testenvvar = os.getenv('testenvvar')"
      ],
      "metadata": {
        "id": "vmXo-i9pWrfz"
      },
      "execution_count": 29,
      "outputs": []
    },
    {
      "cell_type": "code",
      "source": [
        "os.environ['MY_VARIABLE'] = 'hello'\n",
        "\n",
        "# Access the environment variable\n",
        "print(os.environ['MY_VARIABLE'])"
      ],
      "metadata": {
        "colab": {
          "base_uri": "https://localhost:8080/"
        },
        "id": "oyZgjli0X6Ei",
        "outputId": "930c6ffc-6370-43f0-e64b-f7d82fb2e09a"
      },
      "execution_count": 31,
      "outputs": [
        {
          "output_type": "stream",
          "name": "stdout",
          "text": [
            "hello\n"
          ]
        }
      ]
    },
    {
      "cell_type": "code",
      "source": [
        "print(bard)"
      ],
      "metadata": {
        "colab": {
          "base_uri": "https://localhost:8080/"
        },
        "id": "D_NG94SkV4fZ",
        "outputId": "69e87ffe-0630-4333-c35c-f51117751cf4"
      },
      "execution_count": 17,
      "outputs": [
        {
          "output_type": "stream",
          "name": "stdout",
          "text": [
            "None\n"
          ]
        }
      ]
    },
    {
      "cell_type": "code",
      "source": [
        "text = f\"\"\"\n",
        "You should express what you want a model to do by \\ \n",
        "providing instructions that are as clear and \\ \n",
        "specific as you can possibly make them. \\ \n",
        "This will guide the model towards the desired output, \\ \n",
        "and reduce the chances of receiving irrelevant \\ \n",
        "or incorrect responses. Don't confuse writing a \\ \n",
        "clear prompt with writing a short prompt. \\ \n",
        "In many cases, longer prompts provide more clarity \\ \n",
        "and context for the model, which can lead to \\ \n",
        "more detailed and relevant outputs.\n",
        "\"\"\"\n",
        "prompt = f\"\"\"\n",
        "Summarize the text delimited by triple backticks \\ \n",
        "into a single sentence.\n",
        "```{text}```\n",
        "\"\"\"\n",
        "response = bardapi.core.Bard().get_answer(prompt)\n",
        "\n",
        "print(response['content'])"
      ],
      "metadata": {
        "colab": {
          "base_uri": "https://localhost:8080/"
        },
        "id": "cOWrEbpWUthK",
        "outputId": "0800cb44-b160-44a8-c521-7a2caae822bf"
      },
      "execution_count": 49,
      "outputs": [
        {
          "output_type": "stream",
          "name": "stdout",
          "text": [
            "Sure, here is the summary of the text delimited by triple backticks in a single sentence:\n",
            "\n",
            "**Provide clear and specific instructions to a model to guide it towards the desired output.**\n",
            "\n",
            "The text emphasizes the importance of providing clear and specific instructions to a model in order to get the desired output. It also mentions that longer prompts can provide more clarity and context for the model, which can lead to more detailed and relevant outputs.\n"
          ]
        }
      ]
    },
    {
      "cell_type": "code",
      "source": [
        "prompt = f\"\"\"\n",
        "Generate a list of three made-up book titles along \\ \n",
        "with their authors and genres. \n",
        "Provide them in JSON format with the following keys: \n",
        "book_id, title, author, genre.\n",
        "\"\"\"\n",
        "\n",
        "response = bardapi.core.Bard().get_answer(prompt)\n",
        "\n",
        "print(response['content'])"
      ],
      "metadata": {
        "colab": {
          "base_uri": "https://localhost:8080/"
        },
        "id": "o6PpHkCiWCG9",
        "outputId": "cc7bc0e4-e2ca-42e2-9e38-c4bae95f4d4d"
      },
      "execution_count": 36,
      "outputs": [
        {
          "output_type": "stream",
          "name": "stdout",
          "text": [
            "Sure, here is a list of three made-up book titles along with their authors and genres in JSON format:\n",
            "\n",
            "```json\n",
            "[\n",
            "  {\n",
            "    \"book_id\": 1,\n",
            "    \"title\": \"The Adventures of the Space Cat\",\n",
            "    \"author\": \"Bard\",\n",
            "    \"genre\": \"Children's Fiction\"\n",
            "  },\n",
            "  {\n",
            "    \"book_id\": 2,\n",
            "    \"title\": \"The Mystery of the Missing Treasure\",\n",
            "    \"author\": \"Jane Doe\",\n",
            "    \"genre\": \"Mystery\"\n",
            "  },\n",
            "  {\n",
            "    \"book_id\": 3,\n",
            "    \"title\": \"The Rise of the Robots\",\n",
            "    \"author\": \"John Smith\",\n",
            "    \"genre\": \"Science Fiction\"\n",
            "  }\n",
            "]\n",
            "```\n"
          ]
        }
      ]
    },
    {
      "cell_type": "code",
      "source": [
        "text_1 = f\"\"\"\n",
        "Making a cup of tea is easy! First, you need to get some \\ \n",
        "water boiling. While that's happening, \\ \n",
        "grab a cup and put a tea bag in it. Once the water is \\ \n",
        "hot enough, just pour it over the tea bag. \\ \n",
        "Let it sit for a bit so the tea can steep. After a \\ \n",
        "few minutes, take out the tea bag. If you \\ \n",
        "like, you can add some sugar or milk to taste. \\ \n",
        "And that's it! You've got yourself a delicious \\ \n",
        "cup of tea to enjoy.\n",
        "\"\"\"\n",
        "prompt = f\"\"\"\n",
        "You will be provided with text delimited by triple quotes. \n",
        "If it contains a sequence of instructions, \\ \n",
        "re-write those instructions in the following format:\n",
        "\n",
        "Step 1 - ...\n",
        "Step 2 - …\n",
        "…\n",
        "Step N - …\n",
        "\n",
        "If the text does not contain a sequence of instructions, \\ \n",
        "then simply write \\\"No steps provided.\\\"\n",
        "\n",
        "\\\"\\\"\\\"{text_1}\\\"\\\"\\\"\n",
        "\"\"\"\n",
        "\n",
        "response = bardapi.core.Bard().get_answer(prompt)\n",
        "\n",
        "print(\"Completion for Text 1:\")\n",
        "\n",
        "print(response['content'])\n",
        "\n"
      ],
      "metadata": {
        "colab": {
          "base_uri": "https://localhost:8080/"
        },
        "id": "fqRxfw6rZgxF",
        "outputId": "28fb61a2-aa8f-4cf3-c523-424dfdcfaabb"
      },
      "execution_count": 38,
      "outputs": [
        {
          "output_type": "stream",
          "name": "stdout",
          "text": [
            "Completion for Text 1:\n",
            "Sure, here are the steps on how to make a cup of tea, rewritten in the specified format:\n",
            "\n",
            "**Step 1:** Get some water boiling.\n",
            "\n",
            "**Step 2:** While the water is boiling, grab a cup and put a tea bag in it.\n",
            "\n",
            "**Step 3:** Once the water is hot enough, pour it over the tea bag.\n",
            "\n",
            "**Step 4:** Let it sit for a bit so the tea can steep.\n",
            "\n",
            "**Step 5:** After a few minutes, take out the tea bag.\n",
            "\n",
            "**Step 6:** If you like, you can add some sugar or milk to taste.\n",
            "\n",
            "**Step 7:** Enjoy your delicious cup of tea!\n"
          ]
        }
      ]
    },
    {
      "cell_type": "code",
      "source": [
        "text_2 = f\"\"\"\n",
        "The sun is shining brightly today, and the birds are \\\n",
        "singing. It's a beautiful day to go for a \\ \n",
        "walk in the park. The flowers are blooming, and the \\ \n",
        "trees are swaying gently in the breeze. People \\ \n",
        "are out and about, enjoying the lovely weather. \\ \n",
        "Some are having picnics, while others are playing \\ \n",
        "games or simply relaxing on the grass. It's a \\ \n",
        "perfect day to spend time outdoors and appreciate the \\ \n",
        "beauty of nature.\n",
        "\"\"\"\n",
        "\n",
        "prompt = f\"\"\"\n",
        "You will be provided with text delimited by triple quotes. \n",
        "If it contains a sequence of instructions, \\ \n",
        "re-write those instructions in the following format:\n",
        "\n",
        "Step 1 - ...\n",
        "Step 2 - …\n",
        "…\n",
        "Step N - …\n",
        "\n",
        "If the text does not contain a sequence of instructions, \\ \n",
        "then simply write \\\"No steps provided.\\\"\n",
        "\n",
        "\\\"\\\"\\\"{text_2}\\\"\\\"\\\"\n",
        "\"\"\"\n",
        "\n",
        "response = bardapi.core.Bard().get_answer(prompt)\n",
        "\n",
        "print(\"Completion for Text 2:\")\n",
        "\n",
        "print(response['content'])"
      ],
      "metadata": {
        "colab": {
          "base_uri": "https://localhost:8080/"
        },
        "id": "KxCkZ2GCZ7XJ",
        "outputId": "8396e22b-ce0e-4e06-f1e8-4659e928a4f1"
      },
      "execution_count": 40,
      "outputs": [
        {
          "output_type": "stream",
          "name": "stdout",
          "text": [
            "Completion for Text 2:\n",
            "The text provided does not contain a sequence of instructions. Therefore, I will write \"No steps provided.\"\n",
            "\n",
            "No steps provided.\n"
          ]
        }
      ]
    },
    {
      "cell_type": "markdown",
      "source": [
        "Tactic 4 - Few-shot prompting "
      ],
      "metadata": {
        "id": "vqWvV36japJj"
      }
    },
    {
      "cell_type": "code",
      "source": [
        "prompt = f\"\"\"\n",
        "Your task is to answer in a consistent style.\n",
        "\n",
        "<child>: Teach me about patience.\n",
        "\n",
        "<grandparent>: The river that carves the deepest \\ \n",
        "valley flows from a modest spring; the \\ \n",
        "grandest symphony originates from a single note; \\ \n",
        "the most intricate tapestry begins with a solitary thread.\n",
        "\n",
        "<child>: Teach me about resilience.\n",
        "\"\"\"\n",
        "\n",
        "response = bardapi.core.Bard().get_answer(prompt)\n",
        "\n",
        "print(response['content'])"
      ],
      "metadata": {
        "colab": {
          "base_uri": "https://localhost:8080/"
        },
        "id": "yBe_3Dp7aQWW",
        "outputId": "5a33cf0e-57f0-4551-a618-b3eb2acc608f"
      },
      "execution_count": 41,
      "outputs": [
        {
          "output_type": "stream",
          "name": "stdout",
          "text": [
            "Sure, I'd be happy to teach you about resilience.\n",
            "\n",
            "**Resilience is the ability to bounce back from adversity.** It's what allows us to overcome challenges and setbacks, and to continue moving forward even when things get tough.\n",
            "\n",
            "There are many things that can help us to build resilience, including:\n",
            "\n",
            "* **A positive attitude.** Resilient people tend to have a positive outlook on life, even in the face of challenges. They believe that they can overcome anything, and they don't give up easily.\n",
            "* **A strong support system.** Resilient people have people in their lives who they can rely on for support. These people can offer encouragement, advice, and help when needed.\n",
            "* **A sense of purpose.** Resilient people have a sense of purpose in life. They know what they're working towards, and they're motivated to achieve their goals.\n",
            "* **The ability to learn from mistakes.** Resilient people don't let setbacks define them. Instead, they learn from their mistakes and use them to grow and improve.\n",
            "\n",
            "Here are some tips for building resilience:\n",
            "\n",
            "* **Identify your strengths and weaknesses.** Knowing what you're good at and what you need to work on can help you to set realistic goals and to develop coping strategies for dealing with challenges.\n",
            "* **Set realistic goals.** Don't set yourself up for failure by setting goals that are too ambitious. Start with small, achievable goals and work your way up to bigger ones.\n",
            "* **Take care of yourself.** Make sure you're getting enough sleep, eating a healthy diet, and exercising regularly. These things will help you to feel your best physically and mentally, which will make it easier to cope with stress and adversity.\n",
            "* **Don't be afraid to ask for help.** If you're struggling, don't be afraid to reach out to your support system for help. They're there for you, and they want to help you succeed.\n",
            "\n",
            "Resilience is a skill that can be learned and developed. By following these tips, you can build your resilience and become better equipped to handle whatever life throws your way.\n"
          ]
        }
      ]
    },
    {
      "cell_type": "code",
      "source": [
        "text = f\"\"\"\n",
        "In a charming village, siblings Jack and Jill set out on \\ \n",
        "a quest to fetch water from a hilltop \\ \n",
        "well. As they climbed, singing joyfully, misfortune \\ \n",
        "struck—Jack tripped on a stone and tumbled \\ \n",
        "down the hill, with Jill following suit. \\ \n",
        "Though slightly battered, the pair returned home to \\ \n",
        "comforting embraces. Despite the mishap, \\ \n",
        "their adventurous spirits remained undimmed, and they \\ \n",
        "continued exploring with delight.\n",
        "\"\"\"\n",
        "# example 1\n",
        "prompt_1 = f\"\"\"\n",
        "Perform the following actions: \n",
        "1 - Summarize the following text delimited by triple \\\n",
        "backticks with 1 sentence.\n",
        "2 - Translate the summary into French.\n",
        "3 - List each name in the French summary.\n",
        "4 - Output a json object that contains the following \\\n",
        "keys: french_summary, num_names.\n",
        "\n",
        "Separate your answers with line breaks.\n",
        "\n",
        "Text:\n",
        "```{text}```\n",
        "\"\"\"\n",
        "\n",
        "\n",
        "response = bardapi.core.Bard().get_answer(prompt_1)\n",
        "\n",
        "print(response['content'])"
      ],
      "metadata": {
        "colab": {
          "base_uri": "https://localhost:8080/"
        },
        "id": "OV8jvvhya0kE",
        "outputId": "19162bb8-05fc-4abd-908f-d598ced4a7ea"
      },
      "execution_count": 43,
      "outputs": [
        {
          "output_type": "stream",
          "name": "stdout",
          "text": [
            "Sure, here are the answers to your questions:\n",
            "\n",
            "1. **Summary:** Jack and Jill went up the hill to fetch a pail of water. Jack fell down and Jill followed.\n",
            "2. **Translation:** Jack et Jill sont montés la colline pour aller chercher une cruche d'eau. Jack est tombé et Jill l'a suivi.\n",
            "3. **Names in the French summary:** Jack, Jill\n",
            "4. **JSON object:**\n",
            "\n",
            "```json\n",
            "{\n",
            "  \"french_summary\": \"Jack et Jill sont montés la colline pour aller chercher une cruche d'eau. Jack est tombé et Jill l'a suivi.\",\n",
            "  \"num_names\": 2\n",
            "}\n",
            "```\n",
            "\n",
            "Please let me know if you have any other questions.\n"
          ]
        }
      ]
    },
    {
      "cell_type": "code",
      "source": [
        "prompt_2 = f\"\"\"\n",
        "Your task is to perform the following actions: \n",
        "1 - Summarize the following text delimited by \n",
        "  <> with 1 sentence.\n",
        "2 - Translate the summary into French.\n",
        "3 - List each name in the French summary.\n",
        "4 - Output a json object that contains the \n",
        "  following keys: french_summary, num_names.\n",
        "\n",
        "Use the following format:\n",
        "Text: <text to summarize>\n",
        "Summary: <summary>\n",
        "Translation: <summary translation>\n",
        "Names: <list of names in Italian summary>\n",
        "Output JSON: <json with summary and num_names>\n",
        "\n",
        "Text: <{text}>\n",
        "\"\"\"\n",
        "response = bardapi.core.Bard().get_answer(prompt_2)\n",
        "print(\"\\nCompletion for prompt 2:\")\n",
        "print(response['content'])"
      ],
      "metadata": {
        "colab": {
          "base_uri": "https://localhost:8080/"
        },
        "id": "FarIa3n1bjVo",
        "outputId": "0ef2e7b9-8d18-435b-f17d-f4517ade520a"
      },
      "execution_count": 44,
      "outputs": [
        {
          "output_type": "stream",
          "name": "stdout",
          "text": [
            "\n",
            "Completion for prompt 2:\n",
            "Sure, I can do that. Here are the results of your request:\n",
            "\n",
            "**Text:**\n",
            "\n",
            "\n",
            "In a charming village, siblings Jack and Jill set out on a quest to fetch water from a hilltop well. As they climbed, singing joyfully, misfortune struck—Jack tripped on a stone and tumbled down the hill, with Jill following suit. Though slightly battered, the pair returned home to comforting embraces. Despite the mishap, their adventurous spirits remained undimmed, and they continued exploring with delight.\n",
            "\n",
            "\n",
            "**Summary:**\n",
            "\n",
            "\n",
            "Jack and Jill go on an adventure to fetch water, but Jack trips and falls. They are hurt, but they return home and continue to explore.\n",
            "\n",
            "\n",
            "**Translation:**\n",
            "\n",
            "\n",
            "Jack et Jill partent à l'aventure pour aller chercher de l'eau, mais Jack trébuche et tombe. Ils sont blessés, mais ils rentrent chez eux et continuent à explorer.\n",
            "\n",
            "\n",
            "**Names:**\n",
            "\n",
            "```\n",
            "Jack\n",
            "Jill\n",
            "```\n",
            "\n",
            "**Output JSON:**\n",
            "\n",
            "\n",
            "{\n",
            "  \"french_summary\": \"Jack et Jill partent à l'aventure pour aller chercher de l'eau, mais Jack trébuche et tombe. Ils sont blessés, mais ils rentrent chez eux et continuent à explorer.\",\n",
            "  \"num_names\": 2\n",
            "}\n",
            "\n"
          ]
        }
      ]
    },
    {
      "cell_type": "markdown",
      "source": [
        "To check if system work is correct "
      ],
      "metadata": {
        "id": "XkRWyzQndS5e"
      }
    },
    {
      "cell_type": "code",
      "source": [
        "prompt = f\"\"\"\n",
        "Your task is to determine if the student's solution \\\n",
        "is correct or not.\n",
        "To solve the problem do the following:\n",
        "- First, work out your own solution to the problem. \n",
        "- Then compare your solution to the student's solution \\ \n",
        "and evaluate if the student's solution is correct or not. \n",
        "Don't decide if the student's solution is correct until \n",
        "you have done the problem yourself.\n",
        "\n",
        "Use the following format:\n",
        "Question:\n",
        "```\n",
        "question here\n",
        "```\n",
        "Student's solution:\n",
        "```\n",
        "student's solution here\n",
        "```\n",
        "Actual solution:\n",
        "```\n",
        "steps to work out the solution and your solution here\n",
        "```\n",
        "Is the student's solution the same as actual solution \\\n",
        "just calculated:\n",
        "```\n",
        "yes or no\n",
        "```\n",
        "Student grade:\n",
        "```\n",
        "correct or incorrect\n",
        "```\n",
        "\n",
        "Question:\n",
        "```\n",
        "I'm building a solar power installation and I need help \\\n",
        "working out the financials. \n",
        "- Land costs $100 / square foot\n",
        "- I can buy solar panels for $250 / square foot\n",
        "- I negotiated a contract for maintenance that will cost \\\n",
        "me a flat $100k per year, and an additional $10 / square \\\n",
        "foot\n",
        "What is the total cost for the first year of operations \\\n",
        "as a function of the number of square feet.\n",
        "``` \n",
        "Student's solution:\n",
        "```\n",
        "Let x be the size of the installation in square feet.\n",
        "Costs:\n",
        "1. Land cost: 100x\n",
        "2. Solar panel cost: 250x\n",
        "3. Maintenance cost: 100,000 + 100x\n",
        "Total cost: 100x + 250x + 100,000 + 100x = 450x + 100,000\n",
        "```\n",
        "Actual solution:\n",
        "\"\"\"\n",
        "\n",
        "\n",
        "response = bardapi.core.Bard().get_answer(prompt)\n",
        "print(response['content'])"
      ],
      "metadata": {
        "colab": {
          "base_uri": "https://localhost:8080/"
        },
        "id": "C3RgyFn9c0dC",
        "outputId": "e8328a0d-3a7d-46d2-896a-fddbf751e211"
      },
      "execution_count": 45,
      "outputs": [
        {
          "output_type": "stream",
          "name": "stdout",
          "text": [
            "The student's solution is correct.\n",
            "\n",
            "The total cost for the first year of operations is a function of the number of square feet, and is given by the following equation:\n",
            "\n",
            "```\n",
            "Total cost = Land cost + Solar panel cost + Maintenance cost\n",
            "= 100x + 250x + (100,000 + 10x)\n",
            "= 450x + 100,000\n",
            "```\n",
            "\n",
            "where x is the size of the installation in square feet.\n",
            "\n",
            "Here are the steps to work out the solution:\n",
            "\n",
            "1. Let x be the size of the installation in square feet.\n",
            "2. The land cost is $100 per square foot, so the land cost for an installation of x square feet is 100x.\n",
            "3. The solar panel cost is $250 per square foot, so the solar panel cost for an installation of x square feet is 250x.\n",
            "4. The maintenance cost is a flat $100,000 per year, plus an additional $10 per square foot, so the maintenance cost for an installation of x square feet is 100,000 + 10x.\n",
            "5. The total cost for the first year of operations is the sum of the land cost, the solar panel cost, and the maintenance cost.\n",
            "6. Therefore, the total cost for the first year of operations is given by the following equation:\n",
            "\n",
            "```\n",
            "Total cost = Land cost + Solar panel cost + Maintenance cost\n",
            "= 100x + 250x + (100,000 + 10x)\n",
            "= 450x + 100,000\n",
            "```\n"
          ]
        }
      ]
    },
    {
      "cell_type": "code",
      "source": [],
      "metadata": {
        "id": "2KIDhBP9dbbC"
      },
      "execution_count": null,
      "outputs": []
    }
  ]
}